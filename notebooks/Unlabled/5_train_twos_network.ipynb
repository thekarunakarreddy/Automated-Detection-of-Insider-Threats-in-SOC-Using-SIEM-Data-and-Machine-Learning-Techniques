{
 "cells": [
  {
   "cell_type": "code",
   "execution_count": 4,
   "id": "1985056d",
   "metadata": {},
   "outputs": [
    {
     "name": "stdout",
     "output_type": "stream",
     "text": [
      "Processing 111 network files...\n"
     ]
    },
    {
     "name": "stderr",
     "output_type": "stream",
     "text": [
      "Processing network logs: 100%|██████████| 111/111 [02:01<00:00,  1.09s/it]"
     ]
    },
    {
     "name": "stdout",
     "output_type": "stream",
     "text": [
      "\n",
      " Network summary saved to:\n",
      "C:\\Users\\karun\\OneDrive\\Documents\\RIK\\outputs\\twos_network_summary.csv\n",
      "Rows: 16481, Columns: 8\n"
     ]
    },
    {
     "name": "stderr",
     "output_type": "stream",
     "text": [
      "\n"
     ]
    }
   ],
   "source": [
    "import os\n",
    "import pandas as pd\n",
    "from glob import glob\n",
    "from tqdm import tqdm\n",
    "\n",
    "# Define paths\n",
    "folder_path = r\"C:\\Users\\karun\\OneDrive\\Documents\\RIK\\data\\TWOS-dataset\\network_v_2\"\n",
    "output_path = r\"C:\\Users\\karun\\OneDrive\\Documents\\RIK\\outputs\\twos_network_summary.csv\"\n",
    "\n",
    "# Collect results\n",
    "all_data = []\n",
    "\n",
    "# Get all .csv files in the directory\n",
    "file_paths = glob(os.path.join(folder_path, \"*.csv\"))\n",
    "\n",
    "print(f\"Processing {len(file_paths)} network files...\")\n",
    "\n",
    "for file in tqdm(file_paths, desc=\"Processing network logs\"):\n",
    "    try:\n",
    "        # Read skipping the first row which is header\n",
    "        df = pd.read_csv(file, skiprows=1, names=[\"No\", \"Time\", \"Source\", \"Destination\", \"Protocol\", \"Length\", \"Info\"],\n",
    "                         usecols=[\"Time\", \"Source\", \"Destination\", \"Protocol\"], engine=\"python\", on_bad_lines=\"skip\")\n",
    "\n",
    "        # Convert time assuming all sessions start on 2017-03-20\n",
    "        df[\"timestamp\"] = pd.to_datetime(\"2017-03-20\") + pd.to_timedelta(df[\"Time\"], unit=\"s\", errors=\"coerce\")\n",
    "        df[\"date_only\"] = df[\"timestamp\"].dt.date\n",
    "\n",
    "        # Drop rows with missing values\n",
    "        df.dropna(subset=[\"Source\", \"date_only\", \"Protocol\"], inplace=True)\n",
    "\n",
    "        # Group by Source IP (host) and date\n",
    "        grouped = df.groupby([\"Source\", \"date_only\"])\n",
    "\n",
    "        for (host, date), group in grouped:\n",
    "            http_count = (group[\"Protocol\"].str.upper() == \"HTTP\").sum()\n",
    "            dns_count = (group[\"Protocol\"].str.upper() == \"DNS\").sum()\n",
    "            tls_count = group[\"Protocol\"].str.upper().str.startswith(\"TLS\").sum()\n",
    "            tcp_count = (group[\"Protocol\"].str.upper() == \"TCP\").sum()\n",
    "            total_packets = len(group)\n",
    "            unique_dests = group[\"Destination\"].nunique()\n",
    "\n",
    "            all_data.append({\n",
    "                \"host\": host,\n",
    "                \"date_only\": date,\n",
    "                \"http_requests_per_day\": http_count,\n",
    "                \"dns_requests_per_day\": dns_count,\n",
    "                \"tls_connections_per_day\": tls_count,\n",
    "                \"tcp_connections_per_day\": tcp_count,\n",
    "                \"total_packets_per_day\": total_packets,\n",
    "                \"unique_destinations_per_day\": unique_dests\n",
    "            })\n",
    "\n",
    "    except Exception as e:\n",
    "        print(f\"Error processing {file}: {e}\")\n",
    "\n",
    "# Convert to DataFrame\n",
    "summary_df = pd.DataFrame(all_data)\n",
    "\n",
    "# Save output\n",
    "if not summary_df.empty:\n",
    "    summary_df.to_csv(output_path, index=False)\n",
    "    print(f\"\\n Network summary saved to:\\n{output_path}\")\n",
    "    print(f\"Rows: {len(summary_df)}, Columns: {len(summary_df.columns)}\")\n",
    "else:\n",
    "    print(\"No data processed. Please check file content.\")\n"
   ]
  }
 ],
 "metadata": {
  "kernelspec": {
   "display_name": "rik-env",
   "language": "python",
   "name": "python3"
  },
  "language_info": {
   "codemirror_mode": {
    "name": "ipython",
    "version": 3
   },
   "file_extension": ".py",
   "mimetype": "text/x-python",
   "name": "python",
   "nbconvert_exporter": "python",
   "pygments_lexer": "ipython3",
   "version": "3.10.9"
  }
 },
 "nbformat": 4,
 "nbformat_minor": 5
}
