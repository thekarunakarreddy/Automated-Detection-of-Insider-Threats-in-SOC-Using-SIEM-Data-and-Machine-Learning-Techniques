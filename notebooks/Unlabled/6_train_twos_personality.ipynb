{
 "cells": [
  {
   "cell_type": "code",
   "execution_count": 3,
   "id": "6e3212b5",
   "metadata": {},
   "outputs": [
    {
     "name": "stdout",
     "output_type": "stream",
     "text": [
      "Error processing User21.xlsx: 6\n",
      "Personality summary saved to: C:\\Users\\karun\\OneDrive\\Documents\\RIK\\outputs\\twos_personality_summary.csv\n"
     ]
    }
   ],
   "source": [
    "import os\n",
    "import pandas as pd\n",
    "\n",
    "# Path to the folder containing User1.xlsx to User24.xlsx\n",
    "personality_dir = r\"C:\\Users\\karun\\OneDrive\\Documents\\RIK\\data\\TWOS-dataset\\personality_test_ano\"\n",
    "\n",
    "# Final output list\n",
    "results = []\n",
    "\n",
    "for file in os.listdir(personality_dir):\n",
    "    if file.endswith('.xlsx'):\n",
    "        user = os.path.splitext(file)[0]  # Get 'User1' from 'User1.xlsx'\n",
    "        filepath = os.path.join(personality_dir, file)\n",
    "        \n",
    "        try:\n",
    "            df = pd.read_excel(filepath, header=None)\n",
    "\n",
    "            disagree_count = 0\n",
    "            neutral_count = 0\n",
    "            agree_count = 0\n",
    "            total_questions = 0\n",
    "\n",
    "            for _, row in df.iterrows():\n",
    "                # Only process rows that have strings in first column (question)\n",
    "                if isinstance(row[0], str):\n",
    "                    total_questions += 1\n",
    "                    if 'x' in str(row[1]).lower() or 'x' in str(row[2]).lower():\n",
    "                        disagree_count += 1\n",
    "                    elif 'x' in str(row[3]).lower() or 'x' in str(row[4]).lower():\n",
    "                        neutral_count += 1\n",
    "                    elif len(row) > 5 and ('x' in str(row[5]).lower() or 'x' in str(row[6]).lower()):\n",
    "                        agree_count += 1  # In case Agree columns exist\n",
    "\n",
    "            results.append({\n",
    "                \"user\": user,\n",
    "                \"disagree_count\": disagree_count,\n",
    "                \"neutral_count\": neutral_count,\n",
    "                \"agree_count\": agree_count,\n",
    "                \"total_questions\": total_questions\n",
    "            })\n",
    "\n",
    "        except Exception as e:\n",
    "            print(f\"Error processing {file}: {e}\")\n",
    "\n",
    "# Save the results to CSV\n",
    "output_df = pd.DataFrame(results)\n",
    "output_path = r\"C:\\Users\\karun\\OneDrive\\Documents\\RIK\\outputs\\twos_personality_summary.csv\"\n",
    "output_df.to_csv(output_path, index=False)\n",
    "print(f\"Personality summary saved to: {output_path}\")\n"
   ]
  }
 ],
 "metadata": {
  "kernelspec": {
   "display_name": "rik-env",
   "language": "python",
   "name": "python3"
  },
  "language_info": {
   "codemirror_mode": {
    "name": "ipython",
    "version": 3
   },
   "file_extension": ".py",
   "mimetype": "text/x-python",
   "name": "python",
   "nbconvert_exporter": "python",
   "pygments_lexer": "ipython3",
   "version": "3.10.9"
  }
 },
 "nbformat": 4,
 "nbformat_minor": 5
}
