{
 "cells": [
  {
   "cell_type": "code",
   "execution_count": 2,
   "id": "6cb2d3e2",
   "metadata": {},
   "outputs": [
    {
     "name": "stdout",
     "output_type": "stream",
     "text": [
      "Keystroke summary saved to: C:/Users/karun/OneDrive/Documents/RIK/outputs/twos_keystroke_summary.csv\n",
      "Total Rows: 3572, Columns: 7\n"
     ]
    }
   ],
   "source": [
    "import os\n",
    "import pandas as pd\n",
    "from datetime import datetime\n",
    "from collections import defaultdict\n",
    "\n",
    "folder_path = r\"C:/Users/karun/OneDrive/Documents/RIK/data/TWOS-dataset/keystroke_ano\"\n",
    "output_path = r\"C:/Users/karun/OneDrive/Documents/RIK/outputs/twos_keystroke_summary.csv\"\n",
    "\n",
    "summary_data = []\n",
    "\n",
    "for file in os.listdir(folder_path):\n",
    "    file_path = os.path.join(folder_path, file)\n",
    "    try:\n",
    "        with open(file_path, 'r', encoding='utf-8') as f:\n",
    "            data = []\n",
    "            for line in f:\n",
    "                parts = line.strip().split(',')\n",
    "                parts = [p.strip('\"') for p in parts]\n",
    "                if len(parts) >= 2:\n",
    "                    timestamp_str = parts[0]\n",
    "                    event_type = parts[1].lower()\n",
    "                    key = parts[2] if len(parts) > 2 else None\n",
    "                    user = parts[3] if len(parts) > 3 else os.path.basename(file).split('.')[0]\n",
    "                    \n",
    "                    try:\n",
    "                        timestamp = pd.to_datetime(timestamp_str, errors='coerce')\n",
    "                        if pd.isna(timestamp):\n",
    "                            continue\n",
    "                        data.append({\n",
    "                            'user': user,\n",
    "                            'timestamp': timestamp,\n",
    "                            'date_only': timestamp.date(),\n",
    "                            'event': event_type,\n",
    "                            'key': key\n",
    "                        })\n",
    "                    except Exception:\n",
    "                        continue\n",
    "\n",
    "        if not data:\n",
    "            continue\n",
    "\n",
    "        df = pd.DataFrame(data)\n",
    "        grouped = df.groupby(['user', 'date_only'])\n",
    "\n",
    "        for (user, date), group in grouped:\n",
    "            key_press = (group['event'] == 'press').sum()\n",
    "            key_release = (group['event'] == 'release').sum()\n",
    "            unique_keys = group['key'].nunique()\n",
    "            session_count = (df['event'] == 'restart').sum()\n",
    "            total_keys = key_press + key_release\n",
    "            avg_keys_per_session = round(total_keys / session_count, 2) if session_count > 0 else total_keys\n",
    "\n",
    "            summary_data.append({\n",
    "                'user': user,\n",
    "                'date_only': date,\n",
    "                'key_presses_per_day': key_press,\n",
    "                'key_releases_per_day': key_release,\n",
    "                'unique_keys_used_per_day': unique_keys,\n",
    "                'session_count_per_day': session_count if session_count > 0 else 1,\n",
    "                'avg_keys_per_session': avg_keys_per_session\n",
    "            })\n",
    "\n",
    "    except Exception as e:\n",
    "        print(f\"Error processing {file_path}: {e}\")\n",
    "\n",
    "# Save results\n",
    "summary_df = pd.DataFrame(summary_data)\n",
    "summary_df.to_csv(output_path, index=False)\n",
    "print(f\"Keystroke summary saved to: {output_path}\")\n",
    "print(f\"Total Rows: {summary_df.shape[0]}, Columns: {summary_df.shape[1]}\")\n"
   ]
  }
 ],
 "metadata": {
  "kernelspec": {
   "display_name": "rik-env",
   "language": "python",
   "name": "python3"
  },
  "language_info": {
   "codemirror_mode": {
    "name": "ipython",
    "version": 3
   },
   "file_extension": ".py",
   "mimetype": "text/x-python",
   "name": "python",
   "nbconvert_exporter": "python",
   "pygments_lexer": "ipython3",
   "version": "3.10.9"
  }
 },
 "nbformat": 4,
 "nbformat_minor": 5
}
