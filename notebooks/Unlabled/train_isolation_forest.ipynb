{
 "cells": [
  {
   "cell_type": "code",
   "execution_count": 2,
   "id": "7a8039d8",
   "metadata": {},
   "outputs": [
    {
     "name": "stdout",
     "output_type": "stream",
     "text": [
      "Isolation Forest training complete. Results saved.\n"
     ]
    }
   ],
   "source": [
    "import pandas as pd\n",
    "from sklearn.ensemble import IsolationForest\n",
    "from sklearn.preprocessing import StandardScaler\n",
    "\n",
    "# Load processed data\n",
    "df = pd.read_csv(r'C:\\Users\\karun\\OneDrive\\Documents\\RIK\\outputs\\final_outputs\\final_processed_data.csv')\n",
    "\n",
    "# Drop merge keys and keep only features\n",
    "feature_cols = [col for col in df.columns if col not in ['user', 'day_of_week', 'month', 'day']]\n",
    "X = df[feature_cols]\n",
    "\n",
    "# Optional: Standardize features\n",
    "scaler = StandardScaler()\n",
    "X_scaled = scaler.fit_transform(X)\n",
    "\n",
    "# Train Isolation Forest\n",
    "iso_forest = IsolationForest(n_estimators=100, contamination=0.01, random_state=42)\n",
    "iso_forest.fit(X_scaled)\n",
    "\n",
    "# Predict anomalies (-1: anomaly, 1: normal)\n",
    "df['anomaly'] = iso_forest.predict(X_scaled)\n",
    "\n",
    "# Save results\n",
    "df.to_csv(r'C:\\Users\\karun\\OneDrive\\Documents\\RIK\\outputs\\final_outputs\\isolation_forest_results.csv', index=False)\n",
    "\n",
    "print(\"Isolation Forest training complete. Results saved.\")"
   ]
  },
  {
   "cell_type": "code",
   "execution_count": 4,
   "id": "d3afd473",
   "metadata": {},
   "outputs": [
    {
     "name": "stdout",
     "output_type": "stream",
     "text": [
      "Total anomalies detected: 14647\n",
      "       user  device_events_per_day_x  unique_pcs_per_day_x_x  \\\n",
      "6853      7                      2.0                     1.0   \n",
      "6976      7                      6.0                     1.0   \n",
      "22529    27                     18.0                     1.0   \n",
      "22530    27                     18.0                     1.0   \n",
      "22531    27                     16.0                     1.0   \n",
      "\n",
      "       unique_filetrees_per_day_x  connect_events_per_day_x  \\\n",
      "6853                          2.0                       2.0   \n",
      "6976                          2.0                       6.0   \n",
      "22529                         2.0                      18.0   \n",
      "22530                         2.0                      18.0   \n",
      "22531                         2.0                      16.0   \n",
      "\n",
      "       disconnect_events_per_day_x  external_path_access_per_day_x  \\\n",
      "6853                           1.0                             1.0   \n",
      "6976                           3.0                             3.0   \n",
      "22529                          9.0                             9.0   \n",
      "22530                          9.0                             9.0   \n",
      "22531                          8.0                             8.0   \n",
      "\n",
      "       day_of_week  month  day  ...  suspicious_domains_per_day_y  \\\n",
      "6853             0      4    5  ...                           2.0   \n",
      "6976             2      1   13  ...                           0.0   \n",
      "22529            0      1    3  ...                           4.0   \n",
      "22530            0      1    4  ...                           0.0   \n",
      "22531            0      1   10  ...                           0.0   \n",
      "\n",
      "       file_hosting_visits_per_day_y  suspicious_protocol_visits_per_day_y  \\\n",
      "6853                             5.0                                   0.0   \n",
      "6976                             4.0                                   0.0   \n",
      "22529                            1.0                                   0.0   \n",
      "22530                            0.0                                   0.0   \n",
      "22531                            5.0                                   0.0   \n",
      "\n",
      "       visits_out_of_hours_per_day_y     O     C     E     A     N  anomaly  \n",
      "6853                             3.0  30.0  18.0  14.0  38.0  25.0       -1  \n",
      "6976                             3.0  30.0  18.0  14.0  38.0  25.0       -1  \n",
      "22529                            0.0  32.0  32.0  47.0  40.0  24.0       -1  \n",
      "22530                            0.0  32.0  32.0  47.0  40.0  24.0       -1  \n",
      "22531                            0.0  32.0  32.0  47.0  40.0  24.0       -1  \n",
      "\n",
      "[5 rows x 94 columns]\n",
      "user\n",
      "27      452\n",
      "3336    438\n",
      "1069    405\n",
      "566     351\n",
      "3612    350\n",
      "Name: count, dtype: int64\n"
     ]
    }
   ],
   "source": [
    "import pandas as pd\n",
    "\n",
    "df = pd.read_csv(r'C:\\Users\\karun\\OneDrive\\Documents\\RIK\\outputs\\final_outputs\\isolation_forest_results.csv')\n",
    "\n",
    "# Filter rows where anomaly == -1\n",
    "anomalies = df[df['anomaly'] == -1]\n",
    "\n",
    "print(\"Total anomalies detected:\", len(anomalies))\n",
    "print(anomalies.head())\n",
    "print(anomalies['user'].value_counts().head())"
   ]
  }
 ],
 "metadata": {
  "kernelspec": {
   "display_name": "rik-env",
   "language": "python",
   "name": "python3"
  },
  "language_info": {
   "codemirror_mode": {
    "name": "ipython",
    "version": 3
   },
   "file_extension": ".py",
   "mimetype": "text/x-python",
   "name": "python",
   "nbconvert_exporter": "python",
   "pygments_lexer": "ipython3",
   "version": "3.10.9"
  }
 },
 "nbformat": 4,
 "nbformat_minor": 5
}
